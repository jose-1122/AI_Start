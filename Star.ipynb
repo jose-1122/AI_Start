{
 "cells": [
  {
   "cell_type": "code",
   "execution_count": 7,
   "metadata": {},
   "outputs": [
    {
     "name": "stdout",
     "output_type": "stream",
     "text": [
      "줄 수를 입력하세요 : 10\n",
      "\n",
      "*\n",
      "**\n",
      "***\n",
      "****\n",
      "*****\n",
      "******\n",
      "*******\n",
      "********\n",
      "*********\n",
      "**********\n"
     ]
    }
   ],
   "source": [
    "x = int(input(\"줄 수를 입력하세요 : \"))\n",
    "\n",
    "print()\n",
    "for i in range(x):\n",
    "  for j in range(x):\n",
    "    if j<=i:\n",
    "      print('*', end = '')\n",
    "  print()"
   ]
  },
  {
   "cell_type": "code",
   "execution_count": 8,
   "metadata": {},
   "outputs": [
    {
     "name": "stdout",
     "output_type": "stream",
     "text": [
      "줄 수를 입력하세요 : 7\n",
      "\n",
      "*******\n",
      "******\n",
      "*****\n",
      "****\n",
      "***\n",
      "**\n",
      "*\n"
     ]
    }
   ],
   "source": [
    "x = int(input(\"줄 수를 입력하세요 : \"))\n",
    "\n",
    "print()\n",
    "for i in range(x):\n",
    "  for j in range(x-i):\n",
    "    print('*', end = '')\n",
    "  print()"
   ]
  },
  {
   "cell_type": "code",
   "execution_count": 9,
   "metadata": {},
   "outputs": [
    {
     "name": "stdout",
     "output_type": "stream",
     "text": [
      "줄 수를 입력하세요 : 5\n",
      "\n",
      "    *\n",
      "   **\n",
      "  ***\n",
      " ****\n",
      "*****\n"
     ]
    }
   ],
   "source": [
    "x = int(input(\"줄 수를 입력하세요 : \"))\n",
    "\n",
    "print()\n",
    "for i in range(x):\n",
    "  for j in range(x):\n",
    "    if j>=x-1-i:\n",
    "      print('*', end = '')\n",
    "    else:\n",
    "      print(' ', end = '')\n",
    "  print()"
   ]
  },
  {
   "cell_type": "code",
   "execution_count": 10,
   "metadata": {},
   "outputs": [
    {
     "name": "stdout",
     "output_type": "stream",
     "text": [
      "줄 수를 입력하세요 : 8\n",
      "\n",
      "        *\n",
      "       ***\n",
      "      *****\n",
      "     *******\n",
      "    *********\n",
      "   ***********\n",
      "  *************\n",
      " ***************\n"
     ]
    }
   ],
   "source": [
    "x = int(input(\"줄 수를 입력하세요 : \"))\n",
    "\n",
    "print()\n",
    "for i in range(1,x+1):\n",
    "  for j in range(x+1-i):\n",
    "    print(\" \", end=\"\")\n",
    "  for j in range(2*i-1):\n",
    "    print(\"*\", end=\"\")\n",
    "  print()"
   ]
  },
  {
   "cell_type": "code",
   "execution_count": null,
   "metadata": {},
   "outputs": [],
   "source": []
  }
 ],
 "metadata": {
  "kernelspec": {
   "display_name": "Python 3",
   "language": "python",
   "name": "python3"
  },
  "language_info": {
   "codemirror_mode": {
    "name": "ipython",
    "version": 3
   },
   "file_extension": ".py",
   "mimetype": "text/x-python",
   "name": "python",
   "nbconvert_exporter": "python",
   "pygments_lexer": "ipython3",
   "version": "3.8.3"
  }
 },
 "nbformat": 4,
 "nbformat_minor": 4
}
