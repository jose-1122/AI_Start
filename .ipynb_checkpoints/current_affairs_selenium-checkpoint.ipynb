{
 "cells": [
  {
   "cell_type": "markdown",
   "metadata": {},
   "source": [
    "# [ 한국 경제신문_생글생글 ] [ 시사 이슈 찬반토론 ] 정보 가져오기\n",
    "* http://sgsg.hankyung.com/apps.frm/news.list?c1=03&c2=26&keyword=&page=1\n",
    "* selenium 과 BeautifulSoup 을 활용하여 최근 1년간 시사 찬반토론 issue 정보 가져오기.\n",
    "* 시사 찬반토론 issue 는 한 페이지 당 15개(15주차)씩 게재되어 있음.\n",
    "* 따라서 세 페이지의 정보를 가져올 경우 3*15=45.  즉 대략 1년치(48주차) 시사 issue 정보를 가져올 수 있음.\n",
    "* 단 여름방학과 겨울방학 기간에는 연재하지 않으므로 1년치(48주차) 정보이지만 날짜상 오차가 발생할 수 있음."
   ]
  },
  {
   "cell_type": "code",
   "execution_count": 1,
   "metadata": {},
   "outputs": [
    {
     "name": "stdout",
     "output_type": "stream",
     "text": [
      "시사 토론 회차 :\n",
      " ['제685호 2020.11.30', '제684호 2020.11.23', '제683호 2020.11.16', '제682호 2020.11.09', '제681호 2020.11.02', '제680호 2020.10.26', '제679호 2020.10.19', '제678호 2020.10.12', '제677호 2020.09.28', '제676호 2020.09.21', '제675호 2020.09.14', '제674호 2020.09.07', '제673호 2020.07.20', '제672호 2020.07.13', '제670호 2020.06.29', '제669호 2020.06.22', '제668호 2020.06.15', '제667호 2020.06.08', '제666호 2020.06.01', '제665호 2020.05.25', '제664호 2020.05.18', '제663호 2020.05.11', '제662호 2020.05.04', '제661호 2020.04.27', '제660호 2020.04.20', '제659호 2020.04.13', '제658호 2019.12.23', '제657호 2019.12.16', '제656호 2019.12.09', '제655호 2019.12.02', '제654호 2019.11.25', '제653호 2019.11.18', '제651호 2019.11.04', '제650호 2019.10.28', '제649호 2019.10.21', '제648호 2019.10.14', '제647호 2019.10.07', '제646호 2019.09.30', '제645호 2019.09.23', '제644호 2019.09.09', '제643호 2019.09.02', '제642호 2019.08.26', '제641호 2019.07.15', '제640호 2019.07.08', '제639호 2019.07.01'] \n",
      "\n",
      "시사 토론 이슈 :\n",
      " ['[시사이슈 찬반토론] 아마존도 진출한 온라인 약판매, 한국에서도 도...', '[시사이슈 찬반토론] 법정 최고금리 연 24%서 20%로 내린다는데…', \"[시사이슈 찬반토론] ''가덕도 신공항'' 건설 재추진, 타당한가\", '[시사이슈 찬반토론] 공기업 노동이사제 추진, 지금 필요한가', '[시사이슈 찬반토론] 서울시가 서초구의 재산세 감면에 제동을 걸고나...', '[시사이슈 찬반토론] 벤처 창업자에게는 차등의결권 허용한다는데…', '[시사이슈 찬반토론] 정부가 신용대출 규제를 강화한다는데…', \"[시사이슈 찬반토론] 5년뒤 시행하자며 ''재정준칙'' 도입한다는데…\", '[시사이슈 찬반토론]정부가 재택근무 매뉴얼까지 만들겠다는데…', '[시사이슈 찬반토론] 코로나 이유로 국정감사 축소하자는데…', \"[시사이슈 찬반토론] ''네이버의 부동산 정보 경쟁제한 논란''…제재...\", '[시사이슈 찬반토론] 내년에도 초슈퍼예산…줄여야 할까', '[한경 사설 깊이 읽기] 흔들리는 WTO체제…美中갈등·보호무역 대응전...', \"[한경 사설 깊이 읽기] 과잉처벌은 민간 활력 위축시켜…정부는 ''심...\", '[한경 사설 깊이 읽기] 부동산 투기 잡겠다고 수요만 억제해서야…수...', \"[한경 사설 깊이 읽기] 재정확대 계속한다면…''국가부채 확대''냐 ''...\", \"[한경 사설 깊이 읽기] ''질병관리청 승격 논란''…본질 빗나간 구태...\", \"[한경 사설 깊이 읽기] ''국제 금융허브'' 후보에 못 드는 서울…원인...\", \"[한경 사설 깊이 읽기] 거세지는 미국 압박에 ''환율대응'' 나선 중국...\", \"[한경 사설 깊이 읽기] ''K바이오'' 이끌 코로나 치료제 개발 기업들...\", '[한경 사설 깊이 읽기] 신보호주의 대두로 한국 반도체 아성 흔들려', \"[한경 사설 깊이 읽기] 국가총부채 ''코로나 위기'' 감안해도 과도…...\", \"[한경 사설 깊이 읽기] 예외 없는 ''코로나 쇼크''…공공부문도 군살...\", '[한경 사설 깊이 읽기] 고용경직성이 오히려 일자리 확대 걸림돌인 현...', \"[한경 사설 깊이 읽기] 경제지표마다 온통 ''최악''…악순환의 덫에 ...\", '[한경 사설 깊이 읽기] 산업 구조조정 원칙 제대로 세우는 게 무엇보...', '[한경 사설 깊이 읽기] 증세 거론 앞서 경제 잘 돌아가게 하는 정책이...', '[한경 사설 깊이 읽기] 한국의 구조적 취약점이 무엇인지 진지하게 성...', \"[한경 사설 깊이 읽기] 데이터 시대…수능도 ''디지털 리스크''를 관...\", '[한경 사설 깊이 읽기] 왜곡하는 용어 쓰다 보면 인식도 왜곡돼요', '[한경 사설 깊이 읽기] 외교·통상 등 전문가 육성해 대외협상력 키워...', \"[한경 사설 깊이 읽기] 정부가 할 일을 ''위원회''에 미루면 안되겠죠\", '[한경 사설 깊이 읽기] 포퓰리즘으로 망한 아르헨티나…한국이 따라 ...', '[한경 사설 깊이 읽기] 국내 車업계, 기술혁신과 노사협력으로 고비용...', '[한경 사설 깊이 읽기] \"내 편만 옳다\"는 극단적인 편향성을 확인한 ...', '[한경 사설 깊이 읽기] 산재보험, 확대 명분 있어도 재원 확보 없으면...', \"[한경 사설 깊이 읽기] ''익명''을 악용한 무분별한 악플은 인터넷문...\", '[한경 사설 깊이 읽기] 정부의 상황 판단이 정확해야 올바른 정책을 ...', '[한경 사설 깊이 읽기] 부동산 정책도 수요와 공급이라는 시장 기본원...', '[한경 사설 깊이 읽기] 국회는 정부 예산안 내용 꼼꼼히 살펴 세금 낭...', '[한경 사설 깊이 읽기] 막대한 예산 증액보다 경제살리는 근본 처방이...', \"[한경 사설 깊이 읽기] 금융시스템 발전할수록 ''정보 비대칭'' 위험 ...\", '[한경 사설 깊이 읽기] 한일 경제갈등, 기업은 피해자…해법은 정부가...', '[한경 사설 깊이 읽기] 수출 7개월 연속 감소, 산업구조개혁으로 돌파...', '[한경 사설 깊이 읽기] 재정확대보다 경제체질 바꾸는 구조개혁이 핵...'] \n",
      "\n",
      "시사 토론 링크 :\n",
      " ['http://sgsg.hankyung.com/apps.frm/news.view?nkey=2020113000685000181&c1=03&c2=26', 'http://sgsg.hankyung.com/apps.frm/news.view?nkey=2020112300684000191&c1=03&c2=26', 'http://sgsg.hankyung.com/apps.frm/news.view?nkey=2020111600683000231&c1=03&c2=26', 'http://sgsg.hankyung.com/apps.frm/news.view?nkey=2020110900682000181&c1=03&c2=26', 'http://sgsg.hankyung.com/apps.frm/news.view?nkey=2020110200681000331&c1=03&c2=26', 'http://sgsg.hankyung.com/apps.frm/news.view?nkey=2020102600680000261&c1=03&c2=26', 'http://sgsg.hankyung.com/apps.frm/news.view?nkey=2020101900679000171&c1=03&c2=26', 'http://sgsg.hankyung.com/apps.frm/news.view?nkey=2020101200678000161&c1=03&c2=26', 'http://sgsg.hankyung.com/apps.frm/news.view?nkey=2020092800677000201&c1=03&c2=26', 'http://sgsg.hankyung.com/apps.frm/news.view?nkey=2020092100676000231&c1=03&c2=26', 'http://sgsg.hankyung.com/apps.frm/news.view?nkey=2020091400675000011&c1=03&c2=26', 'http://sgsg.hankyung.com/apps.frm/news.view?nkey=2020090700674000111&c1=03&c2=26', 'http://sgsg.hankyung.com/apps.frm/news.view?nkey=2020072000673000111&c1=03&c2=26', 'http://sgsg.hankyung.com/apps.frm/news.view?nkey=2020071300672000111&c1=03&c2=26', 'http://sgsg.hankyung.com/apps.frm/news.view?nkey=2020062900670000081&c1=03&c2=26', 'http://sgsg.hankyung.com/apps.frm/news.view?nkey=2020062200669000111&c1=03&c2=26', 'http://sgsg.hankyung.com/apps.frm/news.view?nkey=2020061500668000121&c1=03&c2=26', 'http://sgsg.hankyung.com/apps.frm/news.view?nkey=2020060800667000111&c1=03&c2=26', 'http://sgsg.hankyung.com/apps.frm/news.view?nkey=2020060100666000111&c1=03&c2=26', 'http://sgsg.hankyung.com/apps.frm/news.view?nkey=2020052500665000171&c1=03&c2=26', 'http://sgsg.hankyung.com/apps.frm/news.view?nkey=2020051800664000251&c1=03&c2=26', 'http://sgsg.hankyung.com/apps.frm/news.view?nkey=2020051100663000161&c1=03&c2=26', 'http://sgsg.hankyung.com/apps.frm/news.view?nkey=2020050600662000201&c1=03&c2=26', 'http://sgsg.hankyung.com/apps.frm/news.view?nkey=2020042700661000231&c1=03&c2=26', 'http://sgsg.hankyung.com/apps.frm/news.view?nkey=2020042000660000191&c1=03&c2=26', 'http://sgsg.hankyung.com/apps.frm/news.view?nkey=2020041300659000101&c1=03&c2=26', 'http://sgsg.hankyung.com/apps.frm/news.view?nkey=2019122300658000101&c1=03&c2=26', 'http://sgsg.hankyung.com/apps.frm/news.view?nkey=2019121600657000101&c1=03&c2=26', 'http://sgsg.hankyung.com/apps.frm/news.view?nkey=2019120900656000131&c1=03&c2=26', 'http://sgsg.hankyung.com/apps.frm/news.view?nkey=2019120200655000121&c1=03&c2=26', 'http://sgsg.hankyung.com/apps.frm/news.view?nkey=2019112500654000121&c1=03&c2=26', 'http://sgsg.hankyung.com/apps.frm/news.view?nkey=2019111800653000131&c1=03&c2=26', 'http://sgsg.hankyung.com/apps.frm/news.view?nkey=2019110400651000121&c1=03&c2=26', 'http://sgsg.hankyung.com/apps.frm/news.view?nkey=2019102800650000081&c1=03&c2=26', 'http://sgsg.hankyung.com/apps.frm/news.view?nkey=2019102100649000201&c1=03&c2=26', 'http://sgsg.hankyung.com/apps.frm/news.view?nkey=2019101400648000071&c1=03&c2=26', 'http://sgsg.hankyung.com/apps.frm/news.view?nkey=2019100700647000101&c1=03&c2=26', 'http://sgsg.hankyung.com/apps.frm/news.view?nkey=2019100700646000121&c1=03&c2=26', 'http://sgsg.hankyung.com/apps.frm/news.view?nkey=2019092300645000101&c1=03&c2=26', 'http://sgsg.hankyung.com/apps.frm/news.view?nkey=2019090900644000311&c1=03&c2=26', 'http://sgsg.hankyung.com/apps.frm/news.view?nkey=2019090200643000081&c1=03&c2=26', 'http://sgsg.hankyung.com/apps.frm/news.view?nkey=2019082600642000091&c1=03&c2=26', 'http://sgsg.hankyung.com/apps.frm/news.view?nkey=2019071500641000081&c1=03&c2=26', 'http://sgsg.hankyung.com/apps.frm/news.view?nkey=2019070800640000081&c1=03&c2=26', 'http://sgsg.hankyung.com/apps.frm/news.view?nkey=2019070100639000091&c1=03&c2=26']\n"
     ]
    }
   ],
   "source": [
    "from selenium import webdriver\n",
    "from bs4 import BeautifulSoup\n",
    "import time\n",
    "\n",
    "driver = webdriver.Chrome(\"Chromedriver\")\n",
    "url = \"http://sgsg.hankyung.com/apps.frm/news.list?c1=03&c2=26&keyword=&page=1\"\n",
    "driver.get(url)\n",
    "\n",
    "all_dates = []       # 회차\n",
    "all_issues = []      # 이슈\n",
    "all_links = []       # 링크\n",
    "\n",
    "for i in range(3):   # 세 페이지\n",
    "    temp_xpath_1 = \"//*[@id=\\\"contents\\\"]/div[2]/a[\"   # 이스케이프 코드 주의\n",
    "    temp_xpath_2 = \"]\"\n",
    "    complete_xpath = temp_xpath_1 + str(i+1) + temp_xpath_2\n",
    "    sel_btn = driver.find_element_by_xpath(complete_xpath)\n",
    "    sel_btn.click()\n",
    "    time.sleep(15)\n",
    "    \n",
    "    page = driver.page_source\n",
    "    soup = BeautifulSoup(page, 'lxml')\n",
    "    \n",
    "    all = soup.find(\"ul\", class_=\"article_list\").find_all(\"li\")\n",
    "\n",
    "    for one in all:\n",
    "        # 회차\n",
    "        all_dates.append(one.em.text)\n",
    "\n",
    "        # 이슈\n",
    "        all_issues.append(one.strong.text)\n",
    "\n",
    "        # 링크\n",
    "        base_link = \"http://sgsg.hankyung.com\"\n",
    "        complete_link = base_link + one.a[\"href\"]\n",
    "        complete_link\n",
    "        all_links.append(complete_link)\n",
    "        \n",
    "print(\"시사 토론 회차 :\\n\", all_dates, \"\\n\")\n",
    "print(\"시사 토론 이슈 :\\n\", all_issues, \"\\n\")\n",
    "print(\"시사 토론 링크 :\\n\", all_links)"
   ]
  },
  {
   "cell_type": "code",
   "execution_count": 2,
   "metadata": {},
   "outputs": [
    {
     "data": {
      "text/html": [
       "<div>\n",
       "<style scoped>\n",
       "    .dataframe tbody tr th:only-of-type {\n",
       "        vertical-align: middle;\n",
       "    }\n",
       "\n",
       "    .dataframe tbody tr th {\n",
       "        vertical-align: top;\n",
       "    }\n",
       "\n",
       "    .dataframe thead th {\n",
       "        text-align: right;\n",
       "    }\n",
       "</style>\n",
       "<table border=\"1\" class=\"dataframe\">\n",
       "  <thead>\n",
       "    <tr style=\"text-align: right;\">\n",
       "      <th></th>\n",
       "      <th>회차</th>\n",
       "      <th>이슈</th>\n",
       "      <th>링크</th>\n",
       "    </tr>\n",
       "  </thead>\n",
       "  <tbody>\n",
       "    <tr>\n",
       "      <th>0</th>\n",
       "      <td>제685호 2020.11.30</td>\n",
       "      <td>[시사이슈 찬반토론] 아마존도 진출한 온라인 약판매, 한국에서도 도...</td>\n",
       "      <td>http://sgsg.hankyung.com/apps.frm/news.view?nk...</td>\n",
       "    </tr>\n",
       "    <tr>\n",
       "      <th>1</th>\n",
       "      <td>제684호 2020.11.23</td>\n",
       "      <td>[시사이슈 찬반토론] 법정 최고금리 연 24%서 20%로 내린다는데…</td>\n",
       "      <td>http://sgsg.hankyung.com/apps.frm/news.view?nk...</td>\n",
       "    </tr>\n",
       "    <tr>\n",
       "      <th>2</th>\n",
       "      <td>제683호 2020.11.16</td>\n",
       "      <td>[시사이슈 찬반토론] ''가덕도 신공항'' 건설 재추진, 타당한가</td>\n",
       "      <td>http://sgsg.hankyung.com/apps.frm/news.view?nk...</td>\n",
       "    </tr>\n",
       "    <tr>\n",
       "      <th>3</th>\n",
       "      <td>제682호 2020.11.09</td>\n",
       "      <td>[시사이슈 찬반토론] 공기업 노동이사제 추진, 지금 필요한가</td>\n",
       "      <td>http://sgsg.hankyung.com/apps.frm/news.view?nk...</td>\n",
       "    </tr>\n",
       "    <tr>\n",
       "      <th>4</th>\n",
       "      <td>제681호 2020.11.02</td>\n",
       "      <td>[시사이슈 찬반토론] 서울시가 서초구의 재산세 감면에 제동을 걸고나...</td>\n",
       "      <td>http://sgsg.hankyung.com/apps.frm/news.view?nk...</td>\n",
       "    </tr>\n",
       "    <tr>\n",
       "      <th>5</th>\n",
       "      <td>제680호 2020.10.26</td>\n",
       "      <td>[시사이슈 찬반토론] 벤처 창업자에게는 차등의결권 허용한다는데…</td>\n",
       "      <td>http://sgsg.hankyung.com/apps.frm/news.view?nk...</td>\n",
       "    </tr>\n",
       "    <tr>\n",
       "      <th>6</th>\n",
       "      <td>제679호 2020.10.19</td>\n",
       "      <td>[시사이슈 찬반토론] 정부가 신용대출 규제를 강화한다는데…</td>\n",
       "      <td>http://sgsg.hankyung.com/apps.frm/news.view?nk...</td>\n",
       "    </tr>\n",
       "    <tr>\n",
       "      <th>7</th>\n",
       "      <td>제678호 2020.10.12</td>\n",
       "      <td>[시사이슈 찬반토론] 5년뒤 시행하자며 ''재정준칙'' 도입한다는데…</td>\n",
       "      <td>http://sgsg.hankyung.com/apps.frm/news.view?nk...</td>\n",
       "    </tr>\n",
       "    <tr>\n",
       "      <th>8</th>\n",
       "      <td>제677호 2020.09.28</td>\n",
       "      <td>[시사이슈 찬반토론]정부가 재택근무 매뉴얼까지 만들겠다는데…</td>\n",
       "      <td>http://sgsg.hankyung.com/apps.frm/news.view?nk...</td>\n",
       "    </tr>\n",
       "    <tr>\n",
       "      <th>9</th>\n",
       "      <td>제676호 2020.09.21</td>\n",
       "      <td>[시사이슈 찬반토론] 코로나 이유로 국정감사 축소하자는데…</td>\n",
       "      <td>http://sgsg.hankyung.com/apps.frm/news.view?nk...</td>\n",
       "    </tr>\n",
       "    <tr>\n",
       "      <th>10</th>\n",
       "      <td>제675호 2020.09.14</td>\n",
       "      <td>[시사이슈 찬반토론] ''네이버의 부동산 정보 경쟁제한 논란''…제재...</td>\n",
       "      <td>http://sgsg.hankyung.com/apps.frm/news.view?nk...</td>\n",
       "    </tr>\n",
       "    <tr>\n",
       "      <th>11</th>\n",
       "      <td>제674호 2020.09.07</td>\n",
       "      <td>[시사이슈 찬반토론] 내년에도 초슈퍼예산…줄여야 할까</td>\n",
       "      <td>http://sgsg.hankyung.com/apps.frm/news.view?nk...</td>\n",
       "    </tr>\n",
       "    <tr>\n",
       "      <th>12</th>\n",
       "      <td>제673호 2020.07.20</td>\n",
       "      <td>[한경 사설 깊이 읽기] 흔들리는 WTO체제…美中갈등·보호무역 대응전...</td>\n",
       "      <td>http://sgsg.hankyung.com/apps.frm/news.view?nk...</td>\n",
       "    </tr>\n",
       "    <tr>\n",
       "      <th>13</th>\n",
       "      <td>제672호 2020.07.13</td>\n",
       "      <td>[한경 사설 깊이 읽기] 과잉처벌은 민간 활력 위축시켜…정부는 ''심...</td>\n",
       "      <td>http://sgsg.hankyung.com/apps.frm/news.view?nk...</td>\n",
       "    </tr>\n",
       "    <tr>\n",
       "      <th>14</th>\n",
       "      <td>제670호 2020.06.29</td>\n",
       "      <td>[한경 사설 깊이 읽기] 부동산 투기 잡겠다고 수요만 억제해서야…수...</td>\n",
       "      <td>http://sgsg.hankyung.com/apps.frm/news.view?nk...</td>\n",
       "    </tr>\n",
       "    <tr>\n",
       "      <th>15</th>\n",
       "      <td>제669호 2020.06.22</td>\n",
       "      <td>[한경 사설 깊이 읽기] 재정확대 계속한다면…''국가부채 확대''냐 ''...</td>\n",
       "      <td>http://sgsg.hankyung.com/apps.frm/news.view?nk...</td>\n",
       "    </tr>\n",
       "    <tr>\n",
       "      <th>16</th>\n",
       "      <td>제668호 2020.06.15</td>\n",
       "      <td>[한경 사설 깊이 읽기] ''질병관리청 승격 논란''…본질 빗나간 구태...</td>\n",
       "      <td>http://sgsg.hankyung.com/apps.frm/news.view?nk...</td>\n",
       "    </tr>\n",
       "    <tr>\n",
       "      <th>17</th>\n",
       "      <td>제667호 2020.06.08</td>\n",
       "      <td>[한경 사설 깊이 읽기] ''국제 금융허브'' 후보에 못 드는 서울…원인...</td>\n",
       "      <td>http://sgsg.hankyung.com/apps.frm/news.view?nk...</td>\n",
       "    </tr>\n",
       "    <tr>\n",
       "      <th>18</th>\n",
       "      <td>제666호 2020.06.01</td>\n",
       "      <td>[한경 사설 깊이 읽기] 거세지는 미국 압박에 ''환율대응'' 나선 중국...</td>\n",
       "      <td>http://sgsg.hankyung.com/apps.frm/news.view?nk...</td>\n",
       "    </tr>\n",
       "    <tr>\n",
       "      <th>19</th>\n",
       "      <td>제665호 2020.05.25</td>\n",
       "      <td>[한경 사설 깊이 읽기] ''K바이오'' 이끌 코로나 치료제 개발 기업들...</td>\n",
       "      <td>http://sgsg.hankyung.com/apps.frm/news.view?nk...</td>\n",
       "    </tr>\n",
       "    <tr>\n",
       "      <th>20</th>\n",
       "      <td>제664호 2020.05.18</td>\n",
       "      <td>[한경 사설 깊이 읽기] 신보호주의 대두로 한국 반도체 아성 흔들려</td>\n",
       "      <td>http://sgsg.hankyung.com/apps.frm/news.view?nk...</td>\n",
       "    </tr>\n",
       "    <tr>\n",
       "      <th>21</th>\n",
       "      <td>제663호 2020.05.11</td>\n",
       "      <td>[한경 사설 깊이 읽기] 국가총부채 ''코로나 위기'' 감안해도 과도…...</td>\n",
       "      <td>http://sgsg.hankyung.com/apps.frm/news.view?nk...</td>\n",
       "    </tr>\n",
       "    <tr>\n",
       "      <th>22</th>\n",
       "      <td>제662호 2020.05.04</td>\n",
       "      <td>[한경 사설 깊이 읽기] 예외 없는 ''코로나 쇼크''…공공부문도 군살...</td>\n",
       "      <td>http://sgsg.hankyung.com/apps.frm/news.view?nk...</td>\n",
       "    </tr>\n",
       "    <tr>\n",
       "      <th>23</th>\n",
       "      <td>제661호 2020.04.27</td>\n",
       "      <td>[한경 사설 깊이 읽기] 고용경직성이 오히려 일자리 확대 걸림돌인 현...</td>\n",
       "      <td>http://sgsg.hankyung.com/apps.frm/news.view?nk...</td>\n",
       "    </tr>\n",
       "    <tr>\n",
       "      <th>24</th>\n",
       "      <td>제660호 2020.04.20</td>\n",
       "      <td>[한경 사설 깊이 읽기] 경제지표마다 온통 ''최악''…악순환의 덫에 ...</td>\n",
       "      <td>http://sgsg.hankyung.com/apps.frm/news.view?nk...</td>\n",
       "    </tr>\n",
       "    <tr>\n",
       "      <th>25</th>\n",
       "      <td>제659호 2020.04.13</td>\n",
       "      <td>[한경 사설 깊이 읽기] 산업 구조조정 원칙 제대로 세우는 게 무엇보...</td>\n",
       "      <td>http://sgsg.hankyung.com/apps.frm/news.view?nk...</td>\n",
       "    </tr>\n",
       "    <tr>\n",
       "      <th>26</th>\n",
       "      <td>제658호 2019.12.23</td>\n",
       "      <td>[한경 사설 깊이 읽기] 증세 거론 앞서 경제 잘 돌아가게 하는 정책이...</td>\n",
       "      <td>http://sgsg.hankyung.com/apps.frm/news.view?nk...</td>\n",
       "    </tr>\n",
       "    <tr>\n",
       "      <th>27</th>\n",
       "      <td>제657호 2019.12.16</td>\n",
       "      <td>[한경 사설 깊이 읽기] 한국의 구조적 취약점이 무엇인지 진지하게 성...</td>\n",
       "      <td>http://sgsg.hankyung.com/apps.frm/news.view?nk...</td>\n",
       "    </tr>\n",
       "    <tr>\n",
       "      <th>28</th>\n",
       "      <td>제656호 2019.12.09</td>\n",
       "      <td>[한경 사설 깊이 읽기] 데이터 시대…수능도 ''디지털 리스크''를 관...</td>\n",
       "      <td>http://sgsg.hankyung.com/apps.frm/news.view?nk...</td>\n",
       "    </tr>\n",
       "    <tr>\n",
       "      <th>29</th>\n",
       "      <td>제655호 2019.12.02</td>\n",
       "      <td>[한경 사설 깊이 읽기] 왜곡하는 용어 쓰다 보면 인식도 왜곡돼요</td>\n",
       "      <td>http://sgsg.hankyung.com/apps.frm/news.view?nk...</td>\n",
       "    </tr>\n",
       "    <tr>\n",
       "      <th>30</th>\n",
       "      <td>제654호 2019.11.25</td>\n",
       "      <td>[한경 사설 깊이 읽기] 외교·통상 등 전문가 육성해 대외협상력 키워...</td>\n",
       "      <td>http://sgsg.hankyung.com/apps.frm/news.view?nk...</td>\n",
       "    </tr>\n",
       "    <tr>\n",
       "      <th>31</th>\n",
       "      <td>제653호 2019.11.18</td>\n",
       "      <td>[한경 사설 깊이 읽기] 정부가 할 일을 ''위원회''에 미루면 안되겠죠</td>\n",
       "      <td>http://sgsg.hankyung.com/apps.frm/news.view?nk...</td>\n",
       "    </tr>\n",
       "    <tr>\n",
       "      <th>32</th>\n",
       "      <td>제651호 2019.11.04</td>\n",
       "      <td>[한경 사설 깊이 읽기] 포퓰리즘으로 망한 아르헨티나…한국이 따라 ...</td>\n",
       "      <td>http://sgsg.hankyung.com/apps.frm/news.view?nk...</td>\n",
       "    </tr>\n",
       "    <tr>\n",
       "      <th>33</th>\n",
       "      <td>제650호 2019.10.28</td>\n",
       "      <td>[한경 사설 깊이 읽기] 국내 車업계, 기술혁신과 노사협력으로 고비용...</td>\n",
       "      <td>http://sgsg.hankyung.com/apps.frm/news.view?nk...</td>\n",
       "    </tr>\n",
       "    <tr>\n",
       "      <th>34</th>\n",
       "      <td>제649호 2019.10.21</td>\n",
       "      <td>[한경 사설 깊이 읽기] \"내 편만 옳다\"는 극단적인 편향성을 확인한 ...</td>\n",
       "      <td>http://sgsg.hankyung.com/apps.frm/news.view?nk...</td>\n",
       "    </tr>\n",
       "    <tr>\n",
       "      <th>35</th>\n",
       "      <td>제648호 2019.10.14</td>\n",
       "      <td>[한경 사설 깊이 읽기] 산재보험, 확대 명분 있어도 재원 확보 없으면...</td>\n",
       "      <td>http://sgsg.hankyung.com/apps.frm/news.view?nk...</td>\n",
       "    </tr>\n",
       "    <tr>\n",
       "      <th>36</th>\n",
       "      <td>제647호 2019.10.07</td>\n",
       "      <td>[한경 사설 깊이 읽기] ''익명''을 악용한 무분별한 악플은 인터넷문...</td>\n",
       "      <td>http://sgsg.hankyung.com/apps.frm/news.view?nk...</td>\n",
       "    </tr>\n",
       "    <tr>\n",
       "      <th>37</th>\n",
       "      <td>제646호 2019.09.30</td>\n",
       "      <td>[한경 사설 깊이 읽기] 정부의 상황 판단이 정확해야 올바른 정책을 ...</td>\n",
       "      <td>http://sgsg.hankyung.com/apps.frm/news.view?nk...</td>\n",
       "    </tr>\n",
       "    <tr>\n",
       "      <th>38</th>\n",
       "      <td>제645호 2019.09.23</td>\n",
       "      <td>[한경 사설 깊이 읽기] 부동산 정책도 수요와 공급이라는 시장 기본원...</td>\n",
       "      <td>http://sgsg.hankyung.com/apps.frm/news.view?nk...</td>\n",
       "    </tr>\n",
       "    <tr>\n",
       "      <th>39</th>\n",
       "      <td>제644호 2019.09.09</td>\n",
       "      <td>[한경 사설 깊이 읽기] 국회는 정부 예산안 내용 꼼꼼히 살펴 세금 낭...</td>\n",
       "      <td>http://sgsg.hankyung.com/apps.frm/news.view?nk...</td>\n",
       "    </tr>\n",
       "    <tr>\n",
       "      <th>40</th>\n",
       "      <td>제643호 2019.09.02</td>\n",
       "      <td>[한경 사설 깊이 읽기] 막대한 예산 증액보다 경제살리는 근본 처방이...</td>\n",
       "      <td>http://sgsg.hankyung.com/apps.frm/news.view?nk...</td>\n",
       "    </tr>\n",
       "    <tr>\n",
       "      <th>41</th>\n",
       "      <td>제642호 2019.08.26</td>\n",
       "      <td>[한경 사설 깊이 읽기] 금융시스템 발전할수록 ''정보 비대칭'' 위험 ...</td>\n",
       "      <td>http://sgsg.hankyung.com/apps.frm/news.view?nk...</td>\n",
       "    </tr>\n",
       "    <tr>\n",
       "      <th>42</th>\n",
       "      <td>제641호 2019.07.15</td>\n",
       "      <td>[한경 사설 깊이 읽기] 한일 경제갈등, 기업은 피해자…해법은 정부가...</td>\n",
       "      <td>http://sgsg.hankyung.com/apps.frm/news.view?nk...</td>\n",
       "    </tr>\n",
       "    <tr>\n",
       "      <th>43</th>\n",
       "      <td>제640호 2019.07.08</td>\n",
       "      <td>[한경 사설 깊이 읽기] 수출 7개월 연속 감소, 산업구조개혁으로 돌파...</td>\n",
       "      <td>http://sgsg.hankyung.com/apps.frm/news.view?nk...</td>\n",
       "    </tr>\n",
       "    <tr>\n",
       "      <th>44</th>\n",
       "      <td>제639호 2019.07.01</td>\n",
       "      <td>[한경 사설 깊이 읽기] 재정확대보다 경제체질 바꾸는 구조개혁이 핵...</td>\n",
       "      <td>http://sgsg.hankyung.com/apps.frm/news.view?nk...</td>\n",
       "    </tr>\n",
       "  </tbody>\n",
       "</table>\n",
       "</div>"
      ],
      "text/plain": [
       "                  회차                                           이슈  \\\n",
       "0   제685호 2020.11.30     [시사이슈 찬반토론] 아마존도 진출한 온라인 약판매, 한국에서도 도...   \n",
       "1   제684호 2020.11.23       [시사이슈 찬반토론] 법정 최고금리 연 24%서 20%로 내린다는데…   \n",
       "2   제683호 2020.11.16         [시사이슈 찬반토론] ''가덕도 신공항'' 건설 재추진, 타당한가   \n",
       "3   제682호 2020.11.09            [시사이슈 찬반토론] 공기업 노동이사제 추진, 지금 필요한가   \n",
       "4   제681호 2020.11.02     [시사이슈 찬반토론] 서울시가 서초구의 재산세 감면에 제동을 걸고나...   \n",
       "5   제680호 2020.10.26          [시사이슈 찬반토론] 벤처 창업자에게는 차등의결권 허용한다는데…   \n",
       "6   제679호 2020.10.19             [시사이슈 찬반토론] 정부가 신용대출 규제를 강화한다는데…   \n",
       "7   제678호 2020.10.12       [시사이슈 찬반토론] 5년뒤 시행하자며 ''재정준칙'' 도입한다는데…   \n",
       "8   제677호 2020.09.28            [시사이슈 찬반토론]정부가 재택근무 매뉴얼까지 만들겠다는데…   \n",
       "9   제676호 2020.09.21             [시사이슈 찬반토론] 코로나 이유로 국정감사 축소하자는데…   \n",
       "10  제675호 2020.09.14    [시사이슈 찬반토론] ''네이버의 부동산 정보 경쟁제한 논란''…제재...   \n",
       "11  제674호 2020.09.07                [시사이슈 찬반토론] 내년에도 초슈퍼예산…줄여야 할까   \n",
       "12  제673호 2020.07.20    [한경 사설 깊이 읽기] 흔들리는 WTO체제…美中갈등·보호무역 대응전...   \n",
       "13  제672호 2020.07.13    [한경 사설 깊이 읽기] 과잉처벌은 민간 활력 위축시켜…정부는 ''심...   \n",
       "14  제670호 2020.06.29     [한경 사설 깊이 읽기] 부동산 투기 잡겠다고 수요만 억제해서야…수...   \n",
       "15  제669호 2020.06.22  [한경 사설 깊이 읽기] 재정확대 계속한다면…''국가부채 확대''냐 ''...   \n",
       "16  제668호 2020.06.15   [한경 사설 깊이 읽기] ''질병관리청 승격 논란''…본질 빗나간 구태...   \n",
       "17  제667호 2020.06.08  [한경 사설 깊이 읽기] ''국제 금융허브'' 후보에 못 드는 서울…원인...   \n",
       "18  제666호 2020.06.01  [한경 사설 깊이 읽기] 거세지는 미국 압박에 ''환율대응'' 나선 중국...   \n",
       "19  제665호 2020.05.25  [한경 사설 깊이 읽기] ''K바이오'' 이끌 코로나 치료제 개발 기업들...   \n",
       "20  제664호 2020.05.18        [한경 사설 깊이 읽기] 신보호주의 대두로 한국 반도체 아성 흔들려   \n",
       "21  제663호 2020.05.11   [한경 사설 깊이 읽기] 국가총부채 ''코로나 위기'' 감안해도 과도…...   \n",
       "22  제662호 2020.05.04   [한경 사설 깊이 읽기] 예외 없는 ''코로나 쇼크''…공공부문도 군살...   \n",
       "23  제661호 2020.04.27    [한경 사설 깊이 읽기] 고용경직성이 오히려 일자리 확대 걸림돌인 현...   \n",
       "24  제660호 2020.04.20   [한경 사설 깊이 읽기] 경제지표마다 온통 ''최악''…악순환의 덫에 ...   \n",
       "25  제659호 2020.04.13    [한경 사설 깊이 읽기] 산업 구조조정 원칙 제대로 세우는 게 무엇보...   \n",
       "26  제658호 2019.12.23   [한경 사설 깊이 읽기] 증세 거론 앞서 경제 잘 돌아가게 하는 정책이...   \n",
       "27  제657호 2019.12.16    [한경 사설 깊이 읽기] 한국의 구조적 취약점이 무엇인지 진지하게 성...   \n",
       "28  제656호 2019.12.09   [한경 사설 깊이 읽기] 데이터 시대…수능도 ''디지털 리스크''를 관...   \n",
       "29  제655호 2019.12.02         [한경 사설 깊이 읽기] 왜곡하는 용어 쓰다 보면 인식도 왜곡돼요   \n",
       "30  제654호 2019.11.25    [한경 사설 깊이 읽기] 외교·통상 등 전문가 육성해 대외협상력 키워...   \n",
       "31  제653호 2019.11.18     [한경 사설 깊이 읽기] 정부가 할 일을 ''위원회''에 미루면 안되겠죠   \n",
       "32  제651호 2019.11.04     [한경 사설 깊이 읽기] 포퓰리즘으로 망한 아르헨티나…한국이 따라 ...   \n",
       "33  제650호 2019.10.28    [한경 사설 깊이 읽기] 국내 車업계, 기술혁신과 노사협력으로 고비용...   \n",
       "34  제649호 2019.10.21   [한경 사설 깊이 읽기] \"내 편만 옳다\"는 극단적인 편향성을 확인한 ...   \n",
       "35  제648호 2019.10.14   [한경 사설 깊이 읽기] 산재보험, 확대 명분 있어도 재원 확보 없으면...   \n",
       "36  제647호 2019.10.07   [한경 사설 깊이 읽기] ''익명''을 악용한 무분별한 악플은 인터넷문...   \n",
       "37  제646호 2019.09.30    [한경 사설 깊이 읽기] 정부의 상황 판단이 정확해야 올바른 정책을 ...   \n",
       "38  제645호 2019.09.23    [한경 사설 깊이 읽기] 부동산 정책도 수요와 공급이라는 시장 기본원...   \n",
       "39  제644호 2019.09.09   [한경 사설 깊이 읽기] 국회는 정부 예산안 내용 꼼꼼히 살펴 세금 낭...   \n",
       "40  제643호 2019.09.02    [한경 사설 깊이 읽기] 막대한 예산 증액보다 경제살리는 근본 처방이...   \n",
       "41  제642호 2019.08.26  [한경 사설 깊이 읽기] 금융시스템 발전할수록 ''정보 비대칭'' 위험 ...   \n",
       "42  제641호 2019.07.15    [한경 사설 깊이 읽기] 한일 경제갈등, 기업은 피해자…해법은 정부가...   \n",
       "43  제640호 2019.07.08   [한경 사설 깊이 읽기] 수출 7개월 연속 감소, 산업구조개혁으로 돌파...   \n",
       "44  제639호 2019.07.01     [한경 사설 깊이 읽기] 재정확대보다 경제체질 바꾸는 구조개혁이 핵...   \n",
       "\n",
       "                                                   링크  \n",
       "0   http://sgsg.hankyung.com/apps.frm/news.view?nk...  \n",
       "1   http://sgsg.hankyung.com/apps.frm/news.view?nk...  \n",
       "2   http://sgsg.hankyung.com/apps.frm/news.view?nk...  \n",
       "3   http://sgsg.hankyung.com/apps.frm/news.view?nk...  \n",
       "4   http://sgsg.hankyung.com/apps.frm/news.view?nk...  \n",
       "5   http://sgsg.hankyung.com/apps.frm/news.view?nk...  \n",
       "6   http://sgsg.hankyung.com/apps.frm/news.view?nk...  \n",
       "7   http://sgsg.hankyung.com/apps.frm/news.view?nk...  \n",
       "8   http://sgsg.hankyung.com/apps.frm/news.view?nk...  \n",
       "9   http://sgsg.hankyung.com/apps.frm/news.view?nk...  \n",
       "10  http://sgsg.hankyung.com/apps.frm/news.view?nk...  \n",
       "11  http://sgsg.hankyung.com/apps.frm/news.view?nk...  \n",
       "12  http://sgsg.hankyung.com/apps.frm/news.view?nk...  \n",
       "13  http://sgsg.hankyung.com/apps.frm/news.view?nk...  \n",
       "14  http://sgsg.hankyung.com/apps.frm/news.view?nk...  \n",
       "15  http://sgsg.hankyung.com/apps.frm/news.view?nk...  \n",
       "16  http://sgsg.hankyung.com/apps.frm/news.view?nk...  \n",
       "17  http://sgsg.hankyung.com/apps.frm/news.view?nk...  \n",
       "18  http://sgsg.hankyung.com/apps.frm/news.view?nk...  \n",
       "19  http://sgsg.hankyung.com/apps.frm/news.view?nk...  \n",
       "20  http://sgsg.hankyung.com/apps.frm/news.view?nk...  \n",
       "21  http://sgsg.hankyung.com/apps.frm/news.view?nk...  \n",
       "22  http://sgsg.hankyung.com/apps.frm/news.view?nk...  \n",
       "23  http://sgsg.hankyung.com/apps.frm/news.view?nk...  \n",
       "24  http://sgsg.hankyung.com/apps.frm/news.view?nk...  \n",
       "25  http://sgsg.hankyung.com/apps.frm/news.view?nk...  \n",
       "26  http://sgsg.hankyung.com/apps.frm/news.view?nk...  \n",
       "27  http://sgsg.hankyung.com/apps.frm/news.view?nk...  \n",
       "28  http://sgsg.hankyung.com/apps.frm/news.view?nk...  \n",
       "29  http://sgsg.hankyung.com/apps.frm/news.view?nk...  \n",
       "30  http://sgsg.hankyung.com/apps.frm/news.view?nk...  \n",
       "31  http://sgsg.hankyung.com/apps.frm/news.view?nk...  \n",
       "32  http://sgsg.hankyung.com/apps.frm/news.view?nk...  \n",
       "33  http://sgsg.hankyung.com/apps.frm/news.view?nk...  \n",
       "34  http://sgsg.hankyung.com/apps.frm/news.view?nk...  \n",
       "35  http://sgsg.hankyung.com/apps.frm/news.view?nk...  \n",
       "36  http://sgsg.hankyung.com/apps.frm/news.view?nk...  \n",
       "37  http://sgsg.hankyung.com/apps.frm/news.view?nk...  \n",
       "38  http://sgsg.hankyung.com/apps.frm/news.view?nk...  \n",
       "39  http://sgsg.hankyung.com/apps.frm/news.view?nk...  \n",
       "40  http://sgsg.hankyung.com/apps.frm/news.view?nk...  \n",
       "41  http://sgsg.hankyung.com/apps.frm/news.view?nk...  \n",
       "42  http://sgsg.hankyung.com/apps.frm/news.view?nk...  \n",
       "43  http://sgsg.hankyung.com/apps.frm/news.view?nk...  \n",
       "44  http://sgsg.hankyung.com/apps.frm/news.view?nk...  "
      ]
     },
     "execution_count": 2,
     "metadata": {},
     "output_type": "execute_result"
    }
   ],
   "source": [
    "import pandas as pd\n",
    "\n",
    "df = pd.DataFrame({\"회차\":all_dates,\n",
    "                   \"이슈\":all_issues,\n",
    "                   \"링크\":all_links})\n",
    "\n",
    "df"
   ]
  },
  {
   "cell_type": "code",
   "execution_count": 3,
   "metadata": {},
   "outputs": [
    {
     "name": "stdout",
     "output_type": "stream",
     "text": [
      "(45, 3)\n",
      "Index(['회차', '이슈', '링크'], dtype='object')\n"
     ]
    }
   ],
   "source": [
    "print(df.shape)\n",
    "print(df.columns)"
   ]
  },
  {
   "cell_type": "markdown",
   "metadata": {},
   "source": [
    "* csv, excel 파일로 만들기"
   ]
  },
  {
   "cell_type": "code",
   "execution_count": 4,
   "metadata": {},
   "outputs": [],
   "source": [
    "df.to_excel(\"한국경제신문_생글생글_시사이슈찬반토론.xlsx\", index=False)\n",
    "df.to_csv(\"한국경제신문_생글생글_시사이슈찬반토론.csv\", index=False)"
   ]
  },
  {
   "cell_type": "markdown",
   "metadata": {},
   "source": [
    "# 시사 issue 정보를 가져오기 위한 몇 가지 사전작업"
   ]
  },
  {
   "cell_type": "code",
   "execution_count": 5,
   "metadata": {},
   "outputs": [],
   "source": [
    "from urllib.request import urlopen\n",
    "from bs4 import BeautifulSoup"
   ]
  },
  {
   "cell_type": "code",
   "execution_count": 6,
   "metadata": {},
   "outputs": [
    {
     "data": {
      "text/plain": [
       "<title>생글생글</title>"
      ]
     },
     "execution_count": 6,
     "metadata": {},
     "output_type": "execute_result"
    }
   ],
   "source": [
    "url = \"http://sgsg.hankyung.com/apps.frm/news.list?c1=03&c2=26\"\n",
    "page = urlopen(url)\n",
    "soup = BeautifulSoup(page, \"lxml\")\n",
    "\n",
    "soup.title"
   ]
  },
  {
   "cell_type": "markdown",
   "metadata": {},
   "source": [
    "### 시사 토론 회차"
   ]
  },
  {
   "cell_type": "code",
   "execution_count": 7,
   "metadata": {},
   "outputs": [
    {
     "data": {
      "text/plain": [
       "'제685호 2020.11.30'"
      ]
     },
     "execution_count": 7,
     "metadata": {},
     "output_type": "execute_result"
    }
   ],
   "source": [
    "soup.find(\"ul\", class_=\"article_list\").find_all(\"li\")[0].em.text"
   ]
  },
  {
   "cell_type": "code",
   "execution_count": 8,
   "metadata": {},
   "outputs": [
    {
     "data": {
      "text/plain": [
       "15"
      ]
     },
     "execution_count": 8,
     "metadata": {},
     "output_type": "execute_result"
    }
   ],
   "source": [
    "# 한 페이지당 시사 issue 개수 확인\n",
    "\n",
    "a = soup.find(\"ul\", class_=\"article_list\").find_all(\"li\")\n",
    "len(a)"
   ]
  },
  {
   "cell_type": "markdown",
   "metadata": {},
   "source": [
    "### 시사 토론 이슈"
   ]
  },
  {
   "cell_type": "code",
   "execution_count": 9,
   "metadata": {},
   "outputs": [
    {
     "data": {
      "text/plain": [
       "'[시사이슈 찬반토론] 아마존도 진출한 온라인 약판매, 한국에서도 도...'"
      ]
     },
     "execution_count": 9,
     "metadata": {},
     "output_type": "execute_result"
    }
   ],
   "source": [
    "soup.find(\"ul\", class_=\"article_list\").find_all(\"li\")[0].strong.text"
   ]
  },
  {
   "cell_type": "markdown",
   "metadata": {},
   "source": [
    "### 시사 토론 링크"
   ]
  },
  {
   "cell_type": "code",
   "execution_count": 10,
   "metadata": {},
   "outputs": [
    {
     "data": {
      "text/plain": [
       "'/apps.frm/news.view?nkey=2020113000685000181&c1=03&c2=26'"
      ]
     },
     "execution_count": 10,
     "metadata": {},
     "output_type": "execute_result"
    }
   ],
   "source": [
    "link = soup.find(\"ul\", class_=\"article_list\").find_all(\"li\")[0].a[\"href\"]\n",
    "link"
   ]
  },
  {
   "cell_type": "code",
   "execution_count": 11,
   "metadata": {},
   "outputs": [
    {
     "data": {
      "text/plain": [
       "'http://sgsg.hankyung.com/apps.frm/news.view?nkey=2020113000685000181&c1=03&c2=26'"
      ]
     },
     "execution_count": 11,
     "metadata": {},
     "output_type": "execute_result"
    }
   ],
   "source": [
    "base_link = \"http://sgsg.hankyung.com\"\n",
    "\n",
    "complete_link = base_link + link\n",
    "complete_link"
   ]
  },
  {
   "cell_type": "markdown",
   "metadata": {},
   "source": [
    "* 회차 + 이슈 + 링크. 정리"
   ]
  },
  {
   "cell_type": "code",
   "execution_count": 12,
   "metadata": {},
   "outputs": [
    {
     "name": "stdout",
     "output_type": "stream",
     "text": [
      "시사 토론 회차 :\n",
      " 제685호 2020.11.30 \n",
      "\n",
      "시사 토론 이슈 :\n",
      " [시사이슈 찬반토론] 아마존도 진출한 온라인 약판매, 한국에서도 도... \n",
      "\n",
      "시사 토론 링크 :\n",
      " http://sgsg.hankyung.com/apps.frm/news.view?nkey=2020113000685000181&c1=03&c2=26\n"
     ]
    }
   ],
   "source": [
    "all = soup.find(\"ul\", class_=\"article_list\").find_all(\"li\")\n",
    "\n",
    "all_dates = []\n",
    "all_issues = []\n",
    "all_links = []\n",
    "\n",
    "for one in all:\n",
    "    # 회차\n",
    "    all_dates.append(one.em.text)\n",
    "    \n",
    "    # 이슈\n",
    "    all_issues.append(one.strong.text)\n",
    "    \n",
    "    # 링크\n",
    "    base_link = \"http://sgsg.hankyung.com\"\n",
    "    complete_link = base_link + one.a[\"href\"]\n",
    "    complete_link\n",
    "    all_links.append(complete_link)\n",
    "    \n",
    "print(\"시사 토론 회차 :\\n\", all_dates[0], \"\\n\")\n",
    "print(\"시사 토론 이슈 :\\n\", all_issues[0], \"\\n\")\n",
    "print(\"시사 토론 링크 :\\n\", all_links[0])"
   ]
  }
 ],
 "metadata": {
  "kernelspec": {
   "display_name": "Python 3",
   "language": "python",
   "name": "python3"
  },
  "language_info": {
   "codemirror_mode": {
    "name": "ipython",
    "version": 3
   },
   "file_extension": ".py",
   "mimetype": "text/x-python",
   "name": "python",
   "nbconvert_exporter": "python",
   "pygments_lexer": "ipython3",
   "version": "3.8.3"
  }
 },
 "nbformat": 4,
 "nbformat_minor": 4
}
