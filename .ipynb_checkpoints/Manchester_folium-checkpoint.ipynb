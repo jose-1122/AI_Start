{
 "cells": [
  {
   "cell_type": "markdown",
   "metadata": {},
   "source": [
    "# 지리 데이터 시각화 라이브러리 Folium\n",
    "* The places I've been to in the UK for English Language Courses in 2019"
   ]
  },
  {
   "cell_type": "code",
   "execution_count": 2,
   "metadata": {},
   "outputs": [],
   "source": [
    "# folium 설치"
   ]
  },
  {
   "cell_type": "code",
   "execution_count": 3,
   "metadata": {},
   "outputs": [
    {
     "name": "stdout",
     "output_type": "stream",
     "text": [
      "Requirement already satisfied: folium in c:\\users\\jooyon\\anaconda3\\lib\\site-packages (0.11.0)\n",
      "Requirement already satisfied: numpy in c:\\users\\jooyon\\anaconda3\\lib\\site-packages (from folium) (1.18.5)\n",
      "Requirement already satisfied: branca>=0.3.0 in c:\\users\\jooyon\\anaconda3\\lib\\site-packages (from folium) (0.4.1)\n",
      "Requirement already satisfied: requests in c:\\users\\jooyon\\anaconda3\\lib\\site-packages (from folium) (2.24.0)\n",
      "Requirement already satisfied: jinja2>=2.9 in c:\\users\\jooyon\\anaconda3\\lib\\site-packages (from folium) (2.11.2)\n",
      "Requirement already satisfied: chardet<4,>=3.0.2 in c:\\users\\jooyon\\anaconda3\\lib\\site-packages (from requests->folium) (3.0.4)\n",
      "Requirement already satisfied: idna<3,>=2.5 in c:\\users\\jooyon\\anaconda3\\lib\\site-packages (from requests->folium) (2.10)\n",
      "Requirement already satisfied: certifi>=2017.4.17 in c:\\users\\jooyon\\anaconda3\\lib\\site-packages (from requests->folium) (2020.6.20)\n",
      "Requirement already satisfied: urllib3!=1.25.0,!=1.25.1,<1.26,>=1.21.1 in c:\\users\\jooyon\\anaconda3\\lib\\site-packages (from requests->folium) (1.25.9)\n",
      "Requirement already satisfied: MarkupSafe>=0.23 in c:\\users\\jooyon\\anaconda3\\lib\\site-packages (from jinja2>=2.9->folium) (1.1.1)\n",
      "Note: you may need to restart the kernel to use updated packages.\n"
     ]
    }
   ],
   "source": [
    "pip install folium"
   ]
  },
  {
   "cell_type": "code",
   "execution_count": 4,
   "metadata": {},
   "outputs": [
    {
     "name": "stdout",
     "output_type": "stream",
     "text": [
      "0.11.0\n"
     ]
    }
   ],
   "source": [
    "import folium\n",
    "\n",
    "print(folium.__version__)"
   ]
  },
  {
   "cell_type": "code",
   "execution_count": 5,
   "metadata": {},
   "outputs": [
    {
     "data": {
      "text/html": [
       "<div style=\"width:100%;\"><div style=\"position:relative;width:100%;height:0;padding-bottom:60%;\"><span style=\"color:#565656\">Make this Notebook Trusted to load map: File -> Trust Notebook</span><iframe src=\"about:blank\" style=\"position:absolute;width:100%;height:100%;left:0;top:0;border:none !important;\" data-html=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 onload=\"this.contentDocument.open();this.contentDocument.write(atob(this.getAttribute('data-html')));this.contentDocument.close();\" allowfullscreen webkitallowfullscreen mozallowfullscreen></iframe></div></div>"
      ],
      "text/plain": [
       "<folium.folium.Map at 0x1b56a3341f0>"
      ]
     },
     "execution_count": 5,
     "metadata": {},
     "output_type": "execute_result"
    }
   ],
   "source": [
    "from folium import plugins\n",
    "\n",
    "# 맨체스터 대학교\n",
    "m = folium.Map(\n",
    "    location=[53.4670158350494, -2.2339158880476955],\n",
    "    zoom_start=10)                                   # default == 10\n",
    "\n",
    "### 마커 (한글 지원 : pip install git+https://github.com/python-visualization/branca.git@master)\n",
    "folium.Marker(\n",
    "    [53.4670158350494, -2.2339158880476955],   # 맨체스터 대학교\n",
    "    tooltip=\"The University of Manchester\",\n",
    "    icon=folium.Icon(color='blue',icon='star')  # help(folium.Icon)\n",
    ").add_to(m)\n",
    "    \n",
    "### 미니맵\n",
    "minimap = plugins.MiniMap()\n",
    "m.add_child(minimap)\n",
    "\n",
    "m"
   ]
  },
  {
   "cell_type": "code",
   "execution_count": 6,
   "metadata": {
    "scrolled": false
   },
   "outputs": [
    {
     "ename": "FileNotFoundError",
     "evalue": "[Errno 2] No such file or directory: 'The University of Manchester.jpg'",
     "output_type": "error",
     "traceback": [
      "\u001b[1;31m---------------------------------------------------------------------------\u001b[0m",
      "\u001b[1;31mFileNotFoundError\u001b[0m                         Traceback (most recent call last)",
      "\u001b[1;32m<ipython-input-6-3203282449d7>\u001b[0m in \u001b[0;36m<module>\u001b[1;34m\u001b[0m\n\u001b[0;32m      9\u001b[0m \u001b[1;33m\u001b[0m\u001b[0m\n\u001b[0;32m     10\u001b[0m \u001b[1;31m### 마커 팝업에 이미지 추가\u001b[0m\u001b[1;33m\u001b[0m\u001b[1;33m\u001b[0m\u001b[1;33m\u001b[0m\u001b[0m\n\u001b[1;32m---> 11\u001b[1;33m \u001b[0mpic\u001b[0m \u001b[1;33m=\u001b[0m \u001b[0mbase64\u001b[0m\u001b[1;33m.\u001b[0m\u001b[0mb64encode\u001b[0m\u001b[1;33m(\u001b[0m\u001b[0mopen\u001b[0m\u001b[1;33m(\u001b[0m\u001b[1;34m'The University of Manchester.jpg'\u001b[0m\u001b[1;33m,\u001b[0m\u001b[1;34m'rb'\u001b[0m\u001b[1;33m)\u001b[0m\u001b[1;33m.\u001b[0m\u001b[0mread\u001b[0m\u001b[1;33m(\u001b[0m\u001b[1;33m)\u001b[0m\u001b[1;33m)\u001b[0m\u001b[1;33m.\u001b[0m\u001b[0mdecode\u001b[0m\u001b[1;33m(\u001b[0m\u001b[1;33m)\u001b[0m\u001b[1;33m\u001b[0m\u001b[1;33m\u001b[0m\u001b[0m\n\u001b[0m\u001b[0;32m     12\u001b[0m \u001b[0mimage_tag\u001b[0m \u001b[1;33m=\u001b[0m \u001b[1;34m'<img src=\"data:image/jpeg;base64,{}\">'\u001b[0m\u001b[1;33m.\u001b[0m\u001b[0mformat\u001b[0m\u001b[1;33m(\u001b[0m\u001b[0mpic\u001b[0m\u001b[1;33m)\u001b[0m\u001b[1;33m\u001b[0m\u001b[1;33m\u001b[0m\u001b[0m\n\u001b[0;32m     13\u001b[0m \u001b[0miframe\u001b[0m \u001b[1;33m=\u001b[0m \u001b[0mfolium\u001b[0m\u001b[1;33m.\u001b[0m\u001b[0mIFrame\u001b[0m\u001b[1;33m(\u001b[0m\u001b[0mimage_tag\u001b[0m\u001b[1;33m,\u001b[0m \u001b[0mwidth\u001b[0m\u001b[1;33m=\u001b[0m\u001b[1;36m600\u001b[0m\u001b[1;33m,\u001b[0m \u001b[0mheight\u001b[0m\u001b[1;33m=\u001b[0m\u001b[1;36m400\u001b[0m\u001b[1;33m)\u001b[0m\u001b[1;33m\u001b[0m\u001b[1;33m\u001b[0m\u001b[0m\n",
      "\u001b[1;31mFileNotFoundError\u001b[0m: [Errno 2] No such file or directory: 'The University of Manchester.jpg'"
     ]
    }
   ],
   "source": [
    "import base64                                        # 마커 팝업에 이미지 추가\n",
    "\n",
    "\n",
    "# 맨체스터 대학교\n",
    "m = folium.Map(\n",
    "    location=[53.4670158350494, -2.2339158880476955],\n",
    "    zoom_start=13)                                   # default == 10\n",
    "\n",
    "\n",
    "### 마커 팝업에 이미지 추가\n",
    "pic = base64.b64encode(open('The University of Manchester.jpg','rb').read()).decode()\n",
    "image_tag = '<img src=\"data:image/jpeg;base64,{}\">'.format(pic)\n",
    "iframe = folium.IFrame(image_tag, width=600, height=400)\n",
    "popup1 = folium.Popup(iframe)\n",
    "\n",
    "pic = base64.b64encode(open('Hulme Hall (Self Catering Accommodation).jpg','rb').read()).decode()\n",
    "image_tag = '<img src=\"data:image/jpeg;base64,{}\">'.format(pic)\n",
    "iframe = folium.IFrame(image_tag, width=450, height=250)\n",
    "popup2 = folium.Popup(iframe)\n",
    "\n",
    "pic = base64.b64encode(open('Samuel Alexander Building.jpg','rb').read()).decode()\n",
    "image_tag = '<img src=\"data:image/jpeg;base64,{}\">'.format(pic)\n",
    "iframe = folium.IFrame(image_tag, width=600, height=350)\n",
    "popup3 = folium.Popup(iframe)\n",
    "\n",
    "pic = base64.b64encode(open('Albert Memorial on Albert Square.jpg','rb').read()).decode()\n",
    "image_tag = '<img src=\"data:image/jpeg;base64,{}\">'.format(pic)\n",
    "iframe = folium.IFrame(image_tag, width=450, height=250)\n",
    "popup4 = folium.Popup(iframe)\n",
    "\n",
    "pic = base64.b64encode(open('Abraham Lincoln Statue on Lincoln Square.jpg','rb').read()).decode()\n",
    "image_tag = '<img src=\"data:image/jpeg;base64,{}\">'.format(pic)\n",
    "iframe = folium.IFrame(image_tag, width=450, height=250)\n",
    "popup5 = folium.Popup(iframe)\n",
    "\n",
    "pic = base64.b64encode(open('John Rylands Library.jpg','rb').read()).decode()\n",
    "image_tag = '<img src=\"data:image/jpeg;base64,{}\">'.format(pic)\n",
    "iframe = folium.IFrame(image_tag, width=450, height=250)\n",
    "popup6 = folium.Popup(iframe)\n",
    "\n",
    "pic = base64.b64encode(open('Manchester Art Gallery.jpg','rb').read()).decode()\n",
    "image_tag = '<img src=\"data:image/jpeg;base64,{}\">'.format(pic)\n",
    "iframe = folium.IFrame(image_tag, width=600, height=400)\n",
    "popup7 = folium.Popup(iframe)\n",
    "\n",
    "pic = base64.b64encode(open('The Whitworth (One of the UK\\'s best art & design sites).jpg','rb').read()).decode()\n",
    "image_tag = '<img src=\"data:image/jpeg;base64,{}\">'.format(pic)\n",
    "iframe = folium.IFrame(image_tag, width=450, height=250)\n",
    "popup8 = folium.Popup(iframe)\n",
    "\n",
    "pic = base64.b64encode(open('Manchester Museum.jpg','rb').read()).decode()\n",
    "image_tag = '<img src=\"data:image/jpeg;base64,{}\">'.format(pic)\n",
    "iframe = folium.IFrame(image_tag, width=450, height=250)\n",
    "popup9 = folium.Popup(iframe)\n",
    "\n",
    "pic = base64.b64encode(open('People\\'s History Museum (Exhibitions on history of UK democracy).jpg','rb').read()).decode()\n",
    "image_tag = '<img src=\"data:image/jpeg;base64,{}\">'.format(pic)\n",
    "iframe = folium.IFrame(image_tag, width=600, height=400)\n",
    "popup10 = folium.Popup(iframe)\n",
    "\n",
    "pic = base64.b64encode(open('St Mary\\'s RC Church (The Hidden Gem).jpg','rb').read()).decode()\n",
    "image_tag = '<img src=\"data:image/jpeg;base64,{}\">'.format(pic)\n",
    "iframe = folium.IFrame(image_tag, width=550, height=400)\n",
    "popup11 = folium.Popup(iframe)\n",
    "\n",
    "pic = base64.b64encode(open('Gay Village.jpg','rb').read()).decode()\n",
    "image_tag = '<img src=\"data:image/jpeg;base64,{}\">'.format(pic)\n",
    "iframe = folium.IFrame(image_tag, width=700, height=400)\n",
    "popup12 = folium.Popup(iframe)\n",
    "\n",
    "pic = base64.b64encode(open('Stretford Police Station.jpg','rb').read()).decode()\n",
    "image_tag = '<img src=\"data:image/jpeg;base64,{}\">'.format(pic)\n",
    "iframe = folium.IFrame(image_tag, width=700, height=400)\n",
    "popup13 = folium.Popup(iframe)\n",
    "\n",
    "pic = base64.b64encode(open('Piccadilly Gardens Fountain.jpg','rb').read()).decode()\n",
    "image_tag = '<img src=\"data:image/jpeg;base64,{}\">'.format(pic)\n",
    "iframe = folium.IFrame(image_tag, width=650, height=400)\n",
    "popup14 = folium.Popup(iframe)\n",
    "\n",
    "pic = base64.b64encode(open('Union Hall Evangelical Church.jpg','rb').read()).decode()\n",
    "image_tag = '<img src=\"data:image/jpeg;base64,{}\">'.format(pic)\n",
    "iframe = folium.IFrame(image_tag, width=450, height=250)\n",
    "popup15 = folium.Popup(iframe)\n",
    "\n",
    "\n",
    "### 마커\n",
    "folium.Marker(\n",
    "    [53.4670158350494, -2.2339158880476955],   # 맨체스터 대학교\n",
    "    popup=popup1,\n",
    "    tooltip=\"The University of Manchester\",\n",
    "    icon=folium.Icon(color='orange',icon='book')\n",
    ").add_to(m)\n",
    "\n",
    "folium.Marker(\n",
    "    [53.45781327497347, -2.224066100988289],   # 맨체스터 대학교 기숙사\n",
    "    popup=popup2,\n",
    "    tooltip=\"Hulme Hall (Self Catering Accommodation)\",\n",
    "    icon=folium.Icon(color='green',icon='home')\n",
    ").add_to(m)\n",
    "\n",
    "folium.Marker(\n",
    "    [53.464668136131884, -2.233600259345088],  # 사무엘 알렉산더 빌딩(student common room)\n",
    "    popup=popup3,\n",
    "    tooltip=\"Samuel Alexander Building\",\n",
    "    icon=folium.Icon(color='orange',icon='book')\n",
    ").add_to(m)\n",
    "\n",
    "folium.Marker(\n",
    "    [53.47991354274834, -2.2460690934304344],  # 기념비\n",
    "    popup=popup4,\n",
    "    tooltip=\"Albert Memorial on Albert Square\",\n",
    "    icon=folium.Icon(color='purple',icon='ok')\n",
    ").add_to(m)\n",
    "\n",
    "folium.Marker(\n",
    "    [53.47987839360372, -2.247208316883254],   # 기념비\n",
    "    popup=popup5,\n",
    "    tooltip=\"Abraham Lincoln Statue on Lincoln Square\",\n",
    "    icon=folium.Icon(color='purple',icon='ok')\n",
    ").add_to(m)\n",
    "\n",
    "folium.Marker(\n",
    "    [53.4804698893962, -2.2487826303754996],   # 도서관\n",
    "    popup=popup6,\n",
    "    tooltip=\"John Rylands Library\",\n",
    "    icon=folium.Icon(color='orange',icon='book')\n",
    ").add_to(m)\n",
    "\n",
    "folium.Marker(\n",
    "    [53.48080861829298, -2.241791478569812],   # 미술관\n",
    "    popup=popup7,\n",
    "    tooltip=\"Manchester Art Gallery\",\n",
    "    icon=folium.Icon(color='blue',icon='ok')\n",
    ").add_to(m)\n",
    "\n",
    "folium.Marker(\n",
    "    [53.46053826402199, -2.2292696996888575],  # 미술관\n",
    "    popup=popup8,\n",
    "    tooltip=\"The Whitworth (One of the UK's best art & design sites)\",\n",
    "    icon=folium.Icon(color='blue',icon='ok')\n",
    ").add_to(m)\n",
    "\n",
    "folium.Marker(\n",
    "    [53.466684460597094, -2.2342727153378066], # 박물관\n",
    "    popup=popup9,\n",
    "    tooltip=\"Manchester Museum\",\n",
    "    icon=folium.Icon(color='blue',icon='ok')\n",
    ").add_to(m)\n",
    "\n",
    "folium.Marker(\n",
    "    [53.4818252687844, -2.2529547860040524],   # 박물관\n",
    "    popup=popup10,\n",
    "    tooltip=\"People's History Museum (Exhibitions on history of UK democracy)\",\n",
    "    icon=folium.Icon(color='blue',icon='ok')\n",
    ").add_to(m)\n",
    "\n",
    "folium.Marker(\n",
    "    [53.48027467417714, -2.246441433440727],   # 천주교 성당\n",
    "    popup=popup11,\n",
    "    tooltip=\"St Mary's RC Church (The Hidden Gem)\",\n",
    "    icon=folium.Icon(color='red',icon='heart')\n",
    ").add_to(m)\n",
    "\n",
    "folium.Marker(\n",
    "    [53.47701927452922, -2.2371728955832184],  # 게이 빌리지\n",
    "    popup=popup12,\n",
    "    tooltip=\"Gay Village\",\n",
    "    icon=folium.Icon(color='pink', icon='ok')\n",
    ").add_to(m)\n",
    "\n",
    "folium.Marker(\n",
    "    [53.457970306118284, -2.289517303391624],  # 경찰서\n",
    "    popup=popup13,\n",
    "    tooltip=\"Stretford Police Station\",\n",
    "    icon=folium.Icon(color='black', icon='info-sign')\n",
    ").add_to(m)\n",
    "\n",
    "folium.Marker(\n",
    "    [53.48127919465109, -2.2371450168832165],  # 공원\n",
    "    popup=popup14,\n",
    "    tooltip=\"Piccadilly Gardens Fountain\",\n",
    "    icon=folium.Icon(color='green', icon='star')\n",
    ").add_to(m)\n",
    "\n",
    "folium.Marker(\n",
    "    [53.46888611891173, -2.2437363181184633],  # 교회\n",
    "    popup=popup15,\n",
    "    tooltip=\"Union Hall Evangelical Church\",\n",
    "    icon=folium.Icon(color='red', icon='heart')\n",
    ").add_to(m)\n",
    "\n",
    "\n",
    "### 미니맵\n",
    "minimap = plugins.MiniMap()\n",
    "m.add_child(minimap)\n",
    "\n",
    "m"
   ]
  },
  {
   "cell_type": "code",
   "execution_count": 106,
   "metadata": {},
   "outputs": [],
   "source": [
    "m.save(\"Manchester_folium.html\")"
   ]
  }
 ],
 "metadata": {
  "kernelspec": {
   "display_name": "Python 3",
   "language": "python",
   "name": "python3"
  },
  "language_info": {
   "codemirror_mode": {
    "name": "ipython",
    "version": 3
   },
   "file_extension": ".py",
   "mimetype": "text/x-python",
   "name": "python",
   "nbconvert_exporter": "python",
   "pygments_lexer": "ipython3",
   "version": "3.8.3"
  }
 },
 "nbformat": 4,
 "nbformat_minor": 4
}
